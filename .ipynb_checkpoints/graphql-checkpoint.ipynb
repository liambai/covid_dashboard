{
 "cells": [
  {
   "cell_type": "code",
   "execution_count": 161,
   "metadata": {},
   "outputs": [],
   "source": [
    "from jupyter_plotly_dash import JupyterDash\n",
    "import dash\n",
    "import dash_core_components as dcc\n",
    "import dash_html_components as html\n",
    "import plotly.express as px\n",
    "from dash.dependencies import Input, Output\n",
    "\n",
    "import requests\n",
    "import json\n",
    "import numpy as np\n",
    "import pandas as pd"
   ]
  },
  {
   "cell_type": "code",
   "execution_count": 107,
   "metadata": {},
   "outputs": [
    {
     "name": "stdout",
     "output_type": "stream",
     "text": [
      "['US', 'IT', 'BR', 'RU', 'MX', 'JP', 'CA', 'CO', 'PE', 'ES', 'IN', 'GB', 'CN', 'CL', 'NL', 'AU', 'PK', 'DE', 'SE', 'UA', 'DK', 'FR', 'AF', 'AL', 'DZ', 'AD', 'AO', 'AG', 'AR', 'AM', 'AT', 'AZ', 'BS', 'BH', 'BD', 'BB', 'BY', 'BE', 'BZ', 'BJ', 'BT', 'BO', 'BA', 'BW', 'BN', 'BG', 'BF', 'BU', 'BI', 'CV', 'KH', 'CM', 'CF', 'TD', 'KM', 'CG', 'CD', 'CR', 'CI', 'HR', 'CU', 'CY', 'CZ', 'ST', 'DJ', 'DM', 'DO', 'EC', 'EG', 'SV', 'GQ', 'ER', 'EE', 'SZ', 'ET', 'FJ', 'FI', 'GA', 'GM', 'GE', 'GH', 'GR', 'GD', 'GT', 'GN', 'GW', 'GY', 'HT', 'HN', 'HU', 'IS', 'ID', 'IR', 'IQ', 'IE', 'IL', 'JM', 'JO', 'KZ', 'KE', 'KR', 'XK', 'KW', 'KG', 'LA', 'LV', 'LB', 'LS', 'LR', 'LY', 'LI', 'LT', 'LU', 'MG', 'MW', 'MY', 'MV', 'ML', 'MT', 'MR', 'MU', 'MD', 'MC', 'MN', 'ME', 'MA', 'MZ', 'NA', 'NP', 'NZ', 'NI', 'NE', 'NG', 'MK', 'NO', 'OM', 'PA', 'PG', 'PY', 'PH', 'PL', 'PT', 'QA', 'RO', 'RW', 'KN', 'LC', 'VC', 'SM', 'ST', 'SA', 'SN', 'RS', 'SC', 'SL', 'SG', 'SK', 'SI', 'SO', 'ZA', 'SS', 'LK', 'SD', 'SR', 'CH', 'SY', 'TW', 'TJ', 'TZ', 'TH', 'TL', 'TG', 'TT', 'TN', 'TR', 'UG', 'AE', 'UY', 'UZ', 'VE', 'VN', 'EH', 'YE', 'ZM', 'ZW']\n"
     ]
    }
   ],
   "source": [
    "def get_country_codes():\n",
    "    country_codes_query = '''\n",
    "    {\n",
    "        summary {\n",
    "            countries {\n",
    "                Code\n",
    "        }\n",
    "      }\n",
    "    }\n",
    "\n",
    "    '''\n",
    "    url = \"https://api-corona.azurewebsites.net/graphql\"\n",
    "    country_codes_request = requests.post(url, json={\"query\": country_codes_query})\n",
    "    if country_codes_request.status_code != 200:\n",
    "        raise Exception(\"Query failed\")\n",
    "        \n",
    "    country_codes = country_codes_request.json()['data']['summary']['countries']\n",
    "    return [e['Code'] for e in country_codes if e['Code'] is not None]\n",
    "\n",
    "print(get_country_codes())"
   ]
  },
  {
   "cell_type": "code",
   "execution_count": 108,
   "metadata": {},
   "outputs": [
    {
     "name": "stdout",
     "output_type": "stream",
     "text": [
      "united-states\n"
     ]
    }
   ],
   "source": [
    "def get_country_name(country_code): \n",
    "    country_name_query = ''' \n",
    "    query getCountryName($countryCode: ID!) {\n",
    "        country(country: $countryCode) {\n",
    "            Summary {\n",
    "                Slug\n",
    "            }\n",
    "        }\n",
    "    }\n",
    "    '''\n",
    "    body = {\n",
    "      \"query\": country_name_query,\n",
    "      \"variables\": {\"countryCode\": country_code}\n",
    "    }\n",
    "    \n",
    "    url = \"https://api-corona.azurewebsites.net/graphql\"\n",
    "    country_name_request = requests.post(url, json=body)\n",
    "    \n",
    "    if country_name_request.status_code != 200:\n",
    "        raise Exception(\"Query failed.\")\n",
    "    return country_name_request.json()['data']['country']['Summary']['Slug']\n",
    "\n",
    "print(get_country_name(\"US\"))"
   ]
  },
  {
   "cell_type": "code",
   "execution_count": 63,
   "metadata": {},
   "outputs": [
    {
     "name": "stdout",
     "output_type": "stream",
     "text": [
      "{'Lat': '40.0', 'Long': '-100.0'}\n",
      "{'01-22-2020': {'Confirmed': 1, 'Deaths': 0}, '01-23-2020': {'Confirmed': 1, 'Deaths': 0}, '01-24-2020': {'Confirmed': 2, 'Deaths': 0}, '01-25-2020': {'Confirmed': 2, 'Deaths': 0}, '01-26-2020': {'Confirmed': 5, 'Deaths': 0}, '01-27-2020': {'Confirmed': 5, 'Deaths': 0}, '01-28-2020': {'Confirmed': 5, 'Deaths': 0}, '01-29-2020': {'Confirmed': 5, 'Deaths': 0}, '01-30-2020': {'Confirmed': 5, 'Deaths': 0}, '01-31-2020': {'Confirmed': 7, 'Deaths': 0}, '02-01-2020': {'Confirmed': 8, 'Deaths': 0}, '02-02-2020': {'Confirmed': 8, 'Deaths': 0}, '02-03-2020': {'Confirmed': 11, 'Deaths': 0}, '02-04-2020': {'Confirmed': 11, 'Deaths': 0}, '02-05-2020': {'Confirmed': 11, 'Deaths': 0}, '02-06-2020': {'Confirmed': 11, 'Deaths': 0}, '02-07-2020': {'Confirmed': 11, 'Deaths': 0}, '02-08-2020': {'Confirmed': 11, 'Deaths': 0}, '02-09-2020': {'Confirmed': 11, 'Deaths': 0}, '02-10-2020': {'Confirmed': 11, 'Deaths': 0}, '02-11-2020': {'Confirmed': 12, 'Deaths': 0}, '02-12-2020': {'Confirmed': 12, 'Deaths': 0}, '02-13-2020': {'Confirmed': 13, 'Deaths': 0}, '02-14-2020': {'Confirmed': 13, 'Deaths': 0}, '02-15-2020': {'Confirmed': 13, 'Deaths': 0}, '02-16-2020': {'Confirmed': 13, 'Deaths': 0}, '02-17-2020': {'Confirmed': 13, 'Deaths': 0}, '02-18-2020': {'Confirmed': 13, 'Deaths': 0}, '02-19-2020': {'Confirmed': 13, 'Deaths': 0}, '02-20-2020': {'Confirmed': 13, 'Deaths': 0}, '02-21-2020': {'Confirmed': 15, 'Deaths': 0}, '02-22-2020': {'Confirmed': 15, 'Deaths': 0}, '02-23-2020': {'Confirmed': 15, 'Deaths': 0}, '02-24-2020': {'Confirmed': 15, 'Deaths': 0}, '02-25-2020': {'Confirmed': 15, 'Deaths': 0}, '02-26-2020': {'Confirmed': 15, 'Deaths': 0}, '02-27-2020': {'Confirmed': 16, 'Deaths': 0}, '02-28-2020': {'Confirmed': 16, 'Deaths': 0}, '02-29-2020': {'Confirmed': 24, 'Deaths': 1}, '03-01-2020': {'Confirmed': 30, 'Deaths': 1}, '03-02-2020': {'Confirmed': 53, 'Deaths': 6}, '03-03-2020': {'Confirmed': 73, 'Deaths': 7}, '03-04-2020': {'Confirmed': 104, 'Deaths': 11}, '03-05-2020': {'Confirmed': 174, 'Deaths': 12}, '03-06-2020': {'Confirmed': 222, 'Deaths': 14}, '03-07-2020': {'Confirmed': 337, 'Deaths': 17}, '03-08-2020': {'Confirmed': 451, 'Deaths': 21}, '03-09-2020': {'Confirmed': 519, 'Deaths': 22}, '03-10-2020': {'Confirmed': 711, 'Deaths': 28}, '03-11-2020': {'Confirmed': 1109, 'Deaths': 33}, '03-12-2020': {'Confirmed': 1561, 'Deaths': 43}, '03-13-2020': {'Confirmed': 2157, 'Deaths': 52}, '03-14-2020': {'Confirmed': 2870, 'Deaths': 58}, '03-15-2020': {'Confirmed': 2968, 'Deaths': 70}, '03-16-2020': {'Confirmed': 4360, 'Deaths': 97}, '03-17-2020': {'Confirmed': 6141, 'Deaths': 131}, '03-18-2020': {'Confirmed': 8917, 'Deaths': 188}, '03-19-2020': {'Confirmed': 14157, 'Deaths': 265}, '03-20-2020': {'Confirmed': 19479, 'Deaths': 362}, '03-21-2020': {'Confirmed': 25825, 'Deaths': 456}, '03-22-2020': {'Confirmed': 33761, 'Deaths': 601}, '03-23-2020': {'Confirmed': 43850, 'Deaths': 784}, '03-24-2020': {'Confirmed': 54112, 'Deaths': 1021}, '03-25-2020': {'Confirmed': 66055, 'Deaths': 1333}, '03-26-2020': {'Confirmed': 84091, 'Deaths': 1746}, '03-27-2020': {'Confirmed': 102276, 'Deaths': 2300}, '03-28-2020': {'Confirmed': 122069, 'Deaths': 2934}, '03-29-2020': {'Confirmed': 141205, 'Deaths': 3561}, '03-30-2020': {'Confirmed': 162707, 'Deaths': 4381}, '03-31-2020': {'Confirmed': 188724, 'Deaths': 5605}, '04-01-2020': {'Confirmed': 214205, 'Deaths': 6846}, '04-02-2020': {'Confirmed': 244610, 'Deaths': 8432}, '04-03-2020': {'Confirmed': 276547, 'Deaths': 9747}, '04-04-2020': {'Confirmed': 309699, 'Deaths': 11031}, '04-05-2020': {'Confirmed': 337573, 'Deaths': 12470}, '04-06-2020': {'Confirmed': 367215, 'Deaths': 14138}, '04-07-2020': {'Confirmed': 397992, 'Deaths': 16447}, '04-08-2020': {'Confirmed': 429686, 'Deaths': 18563}, '04-09-2020': {'Confirmed': 464442, 'Deaths': 20638}, '04-10-2020': {'Confirmed': 497943, 'Deaths': 22731}, '04-11-2020': {'Confirmed': 527969, 'Deaths': 24777}, '04-12-2020': {'Confirmed': 556522, 'Deaths': 26548}, '04-13-2020': {'Confirmed': 581813, 'Deaths': 28376}, '04-14-2020': {'Confirmed': 608878, 'Deaths': 30780}, '04-15-2020': {'Confirmed': 637974, 'Deaths': 33329}, '04-16-2020': {'Confirmed': 669272, 'Deaths': 35442}, '04-17-2020': {'Confirmed': 701996, 'Deaths': 38056}, '04-18-2020': {'Confirmed': 730337, 'Deaths': 40442}, '04-19-2020': {'Confirmed': 756375, 'Deaths': 41671}, '04-20-2020': {'Confirmed': 783716, 'Deaths': 43466}, '04-21-2020': {'Confirmed': 809228, 'Deaths': 45919}, '04-22-2020': {'Confirmed': 837422, 'Deaths': 48312}, '04-23-2020': {'Confirmed': 871617, 'Deaths': 50749}, '04-24-2020': {'Confirmed': 907908, 'Deaths': 52867}, '04-25-2020': {'Confirmed': 940829, 'Deaths': 54517}, '04-26-2020': {'Confirmed': 968518, 'Deaths': 55810}, '04-27-2020': {'Confirmed': 990892, 'Deaths': 57233}, '04-28-2020': {'Confirmed': 1015518, 'Deaths': 59454}, '04-29-2020': {'Confirmed': 1042926, 'Deaths': 61955}, '04-30-2020': {'Confirmed': 1072667, 'Deaths': 64256}, '05-01-2020': {'Confirmed': 1106829, 'Deaths': 66125}, '05-02-2020': {'Confirmed': 1136024, 'Deaths': 67681}, '05-03-2020': {'Confirmed': 1161611, 'Deaths': 68777}, '05-04-2020': {'Confirmed': 1184086, 'Deaths': 70086}, '05-05-2020': {'Confirmed': 1208271, 'Deaths': 72393}, '05-06-2020': {'Confirmed': 1233527, 'Deaths': 74851}, '05-07-2020': {'Confirmed': 1261409, 'Deaths': 76770}, '05-08-2020': {'Confirmed': 1288587, 'Deaths': 78497}, '05-09-2020': {'Confirmed': 1314320, 'Deaths': 79976}, '05-10-2020': {'Confirmed': 1334084, 'Deaths': 80855}, '05-11-2020': {'Confirmed': 1352962, 'Deaths': 81868}, '05-12-2020': {'Confirmed': 1374916, 'Deaths': 83480}, '05-13-2020': {'Confirmed': 1396110, 'Deaths': 85234}, '05-14-2020': {'Confirmed': 1423727, 'Deaths': 87008}, '05-15-2020': {'Confirmed': 1449027, 'Deaths': 88669}, '05-16-2020': {'Confirmed': 1474128, 'Deaths': 89892}, '05-17-2020': {'Confirmed': 1493132, 'Deaths': 90644}, '05-18-2020': {'Confirmed': 1514901, 'Deaths': 91414}, '05-19-2020': {'Confirmed': 1535350, 'Deaths': 92965}, '05-20-2020': {'Confirmed': 1558971, 'Deaths': 94528}, '05-21-2020': {'Confirmed': 1584512, 'Deaths': 95756}, '05-22-2020': {'Confirmed': 1608653, 'Deaths': 97025}, '05-23-2020': {'Confirmed': 1630476, 'Deaths': 98146}, '05-24-2020': {'Confirmed': 1651289, 'Deaths': 98754}, '05-25-2020': {'Confirmed': 1670280, 'Deaths': 99267}, '05-26-2020': {'Confirmed': 1689163, 'Deaths': 99952}, '05-27-2020': {'Confirmed': 1707445, 'Deaths': 101461}, '05-28-2020': {'Confirmed': 1730260, 'Deaths': 102643}, '05-29-2020': {'Confirmed': 1754764, 'Deaths': 103809}, '05-30-2020': {'Confirmed': 1778995, 'Deaths': 104773}, '05-31-2020': {'Confirmed': 1799124, 'Deaths': 105364}, '06-01-2020': {'Confirmed': 1816479, 'Deaths': 106136}, '06-02-2020': {'Confirmed': 1837374, 'Deaths': 107169}, '06-03-2020': {'Confirmed': 1857332, 'Deaths': 108159}, '06-04-2020': {'Confirmed': 1878683, 'Deaths': 109168}, '06-05-2020': {'Confirmed': 1903907, 'Deaths': 110138}, '06-06-2020': {'Confirmed': 1926639, 'Deaths': 110818}, '06-07-2020': {'Confirmed': 1944370, 'Deaths': 111269}, '06-08-2020': {'Confirmed': 1961785, 'Deaths': 111774}, '06-09-2020': {'Confirmed': 1979912, 'Deaths': 112714}, '06-10-2020': {'Confirmed': 2000706, 'Deaths': 113631}, '06-11-2020': {'Confirmed': 2023656, 'Deaths': 114512}, '06-12-2020': {'Confirmed': 2048986, 'Deaths': 115334}, '06-13-2020': {'Confirmed': 2074542, 'Deaths': 116084}, '06-14-2020': {'Confirmed': 2094366, 'Deaths': 116382}, '06-15-2020': {'Confirmed': 2114026, 'Deaths': 116773}, '06-16-2020': {'Confirmed': 2137731, 'Deaths': 117612}, '06-17-2020': {'Confirmed': 2163290, 'Deaths': 118363}, '06-18-2020': {'Confirmed': 2191099, 'Deaths': 119067}, '06-19-2020': {'Confirmed': 2222579, 'Deaths': 119739}, '06-20-2020': {'Confirmed': 2255328, 'Deaths': 120349}, '06-21-2020': {'Confirmed': 2281767, 'Deaths': 120604}, '06-22-2020': {'Confirmed': 2312303, 'Deaths': 121010}, '06-23-2020': {'Confirmed': 2347491, 'Deaths': 121847}, '06-24-2020': {'Confirmed': 2382426, 'Deaths': 122604}, '06-25-2020': {'Confirmed': 2422299, 'Deaths': 125026}, '06-26-2020': {'Confirmed': 2467554, 'Deaths': 125631}, '06-27-2020': {'Confirmed': 2510259, 'Deaths': 126120}, '06-28-2020': {'Confirmed': 2549294, 'Deaths': 126360}, '06-29-2020': {'Confirmed': 2590668, 'Deaths': 126711}, '06-30-2020': {'Confirmed': 2636414, 'Deaths': 127432}, '07-01-2020': {'Confirmed': 2687588, 'Deaths': 128105}, '07-02-2020': {'Confirmed': 2742049, 'Deaths': 128803}, '07-03-2020': {'Confirmed': 2795361, 'Deaths': 129442}, '07-04-2020': {'Confirmed': 2841241, 'Deaths': 129689}, '07-05-2020': {'Confirmed': 2891124, 'Deaths': 129960}, '07-06-2020': {'Confirmed': 2936077, 'Deaths': 130285}, '07-07-2020': {'Confirmed': 2996098, 'Deaths': 131480}, '07-08-2020': {'Confirmed': 3054699, 'Deaths': 132300}, '07-09-2020': {'Confirmed': 3117946, 'Deaths': 133290}, '07-10-2020': {'Confirmed': 3184573, 'Deaths': 134092}, '07-11-2020': {'Confirmed': 3245925, 'Deaths': 134777}, '07-12-2020': {'Confirmed': 3304942, 'Deaths': 135205}, '07-13-2020': {'Confirmed': 3364157, 'Deaths': 135566}, '07-14-2020': {'Confirmed': 3431574, 'Deaths': 136466}}\n"
     ]
    }
   ],
   "source": [
    "def get_country_data(country_code):\n",
    "    country_data_query = ''' \n",
    "    query getCountryData($countryCode: ID!) {\n",
    "        timelineCountry(country: $countryCode) {\n",
    "            Country\n",
    "            Date\n",
    "            Confirmed\n",
    "            Deaths\n",
    "            Lat\n",
    "            Long\n",
    "        }\n",
    "    } \n",
    "    '''\n",
    "    body = {\n",
    "      \"query\": country_data_query,\n",
    "      \"variables\": {\"countryCode\": country_code}\n",
    "    }\n",
    "\n",
    "    url = \"https://api-corona.azurewebsites.net/graphql\"\n",
    "    country_data_request = requests.post(url, json=body)\n",
    "\n",
    "    if country_data_request.status_code != 200:\n",
    "        raise Exception(\"Query failed\")\n",
    "        \n",
    "    country_info = country_data_request.json()['data']['timelineCountry']\n",
    "    location_info = {\"Lat\": country_info[0][\"Lat\"], \"Long\": country_info[0][\"Long\"]}\n",
    "    cases_info = {e['Date']: {\"Confirmed\": e['Confirmed'], \"Deaths\": e['Deaths']} for e in country_info} \n",
    "    return location_info, cases_info\n",
    "\n",
    "location_info, cases_info = get_country_data(\"US\")\n",
    "print(location_info)\n",
    "print(cases_info)"
   ]
  },
  {
   "cell_type": "code",
   "execution_count": 113,
   "metadata": {},
   "outputs": [],
   "source": [
    "def fetchData(): \n",
    "    country_codes = get_country_codes()\n",
    "    rows = []\n",
    "    for code in country_codes:\n",
    "        country_name = get_country_name(code)\n",
    "        location_info, cases_info = get_country_data(code)\n",
    "        for date in cases_info.keys():\n",
    "\n",
    "            confirmed = cases_info[date][\"Confirmed\"]\n",
    "            log_confirmed = max(0, np.log10(confirmed))\n",
    "\n",
    "            deaths = cases_info[date][\"Deaths\"]\n",
    "            log_deaths = max(0, np.log10(deaths))\n",
    "\n",
    "            rows.append([country_name, location_info[\"Lat\"], location_info[\"Long\"], date, \n",
    "                         confirmed, deaths, log_confirmed, log_deaths])\n",
    "\n",
    "    return pd.DataFrame(rows, columns=['Country', 'Lat', 'Long', 'Date', 'Confirmed', \"Deaths\",\n",
    "                                            \"Log Confirmed\", \"Log Deaths\"])\n",
    "\n",
    "#summary_df = fetchData()"
   ]
  },
  {
   "cell_type": "code",
   "execution_count": 150,
   "metadata": {},
   "outputs": [],
   "source": [
    "def createMap(df, selected_category):\n",
    "    return px.scatter_geo(df,\n",
    "        lat = df['Lat'],\n",
    "        lon = df['Long'],\n",
    "        color=df[\"Log \" + selected_category],\n",
    "        opacity=0.4,\n",
    "        hover_name=df['Country'],\n",
    "        size=df[\"Log \" + selected_category],\n",
    "        animation_frame=df['Date'].astype(str),\n",
    "        projection=\"natural earth\")"
   ]
  },
  {
   "cell_type": "code",
   "execution_count": 176,
   "metadata": {
    "scrolled": true
   },
   "outputs": [
    {
     "ename": "IndentationError",
     "evalue": "expected an indented block (<ipython-input-176-bd1c250f3d3d>, line 29)",
     "output_type": "error",
     "traceback": [
      "\u001b[0;36m  File \u001b[0;32m\"<ipython-input-176-bd1c250f3d3d>\"\u001b[0;36m, line \u001b[0;32m29\u001b[0m\n\u001b[0;31m    return createMap(summary_df, selected_type)\u001b[0m\n\u001b[0m         ^\u001b[0m\n\u001b[0;31mIndentationError\u001b[0m\u001b[0;31m:\u001b[0m expected an indented block\n"
     ]
    }
   ],
   "source": [
    "app = JupyterDash(\"Covid Dashboard\")\n",
    "\n",
    "app.layout = html.Div([\n",
    "    html.H1(id='title', children='Covid-19 Tracker'),\n",
    "    dcc.RadioItems(\n",
    "        id='type-selector',\n",
    "        options=[{'label': i, 'value': i} for i in ['Confirmed', 'Deaths']],\n",
    "        value='Confirmed',\n",
    "        style={'margin-top': '60px'}\n",
    "    ),\n",
    "    dcc.Graph(id='covid-map'),\n",
    "    dcc.Interval(\n",
    "        id='interval-component',\n",
    "        interval=10*1000, # in milliseconds\n",
    "        n_intervals=0\n",
    "    )\n",
    "], style={'text-align':'center'})\n",
    "\n",
    "@app.callback(\n",
    "    Output('covid-map', 'figure'),\n",
    "    [Input('type-selector', 'value'),\n",
    "    Input('interval-component', 'n_intervals')])\n",
    "def update_map(selected_type, n):\n",
    "    ctx = dash.callback_context\n",
    "    print(ctx.triggered)\n",
    "    #if ctx.triggered:\n",
    "#         if ctx.triggered[0]['prop_id'].split('.')[0] == 'interval-component':\n",
    "#             selected_type = \"Deaths\"\n",
    "    return createMap(summary_df, selected_type)\n",
    "\n",
    "app"
   ]
  },
  {
   "cell_type": "code",
   "execution_count": null,
   "metadata": {},
   "outputs": [],
   "source": []
  }
 ],
 "metadata": {
  "kernelspec": {
   "display_name": "Python 3",
   "language": "python",
   "name": "python3"
  },
  "language_info": {
   "codemirror_mode": {
    "name": "ipython",
    "version": 3
   },
   "file_extension": ".py",
   "mimetype": "text/x-python",
   "name": "python",
   "nbconvert_exporter": "python",
   "pygments_lexer": "ipython3",
   "version": "3.7.3"
  }
 },
 "nbformat": 4,
 "nbformat_minor": 2
}
